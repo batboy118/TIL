{
  "nbformat": 4,
  "nbformat_minor": 0,
  "metadata": {
    "colab": {
      "name": "Pytorch1.ipynb",
      "provenance": [],
      "collapsed_sections": []
    },
    "kernelspec": {
      "name": "python3",
      "display_name": "Python 3"
    },
    "accelerator": "GPU"
  },
  "cells": [
    {
      "cell_type": "markdown",
      "metadata": {
        "id": "1hkJ-GNYYlaX",
        "colab_type": "text"
      },
      "source": [
        "# 1. 텐서 생성하기\n"
      ]
    },
    {
      "cell_type": "code",
      "metadata": {
        "id": "Ok8czxs9qD0-",
        "colab_type": "code",
        "colab": {}
      },
      "source": [
        "# Seongtae Kim 2020-01-10"
      ],
      "execution_count": 0,
      "outputs": []
    },
    {
      "cell_type": "code",
      "metadata": {
        "id": "u8BVAg0tDugt",
        "colab_type": "code",
        "colab": {}
      },
      "source": [
        "import torch # Pytorch 불러오기\n",
        "import numpy as np"
      ],
      "execution_count": 0,
      "outputs": []
    },
    {
      "cell_type": "code",
      "metadata": {
        "id": "K0xZHb3PSJtc",
        "colab_type": "code",
        "outputId": "18af71f6-532f-40cf-f7f0-fab888cfa1ea",
        "colab": {
          "base_uri": "https://localhost:8080/",
          "height": 155
        }
      },
      "source": [
        "# 텐서 생성하기 기본\n",
        "tensor_1 = torch.Tensor([1, 2, 3, 4, 5]) # 1차원 벡터\n",
        "tensor_2 = torch.Tensor([[1, 2],[3, 4]]) # 2차원 행렬\n",
        "tensor_3 = torch.Tensor([[[1, 2],[3, 4]],[[5, 6],[7, 8]]])  # 3차원 큐브\n",
        "\n",
        "print(tensor_1)\n",
        "print(tensor_2)\n",
        "print(tensor_3)"
      ],
      "execution_count": 0,
      "outputs": [
        {
          "output_type": "stream",
          "text": [
            "tensor([1., 2., 3., 4., 5.])\n",
            "tensor([[1., 2.],\n",
            "        [3., 4.]])\n",
            "tensor([[[1., 2.],\n",
            "         [3., 4.]],\n",
            "\n",
            "        [[5., 6.],\n",
            "         [7., 8.]]])\n"
          ],
          "name": "stdout"
        }
      ]
    },
    {
      "cell_type": "code",
      "metadata": {
        "id": "AD_-A_CARJrA",
        "colab_type": "code",
        "outputId": "1f8f0d73-3abe-4e51-e712-9932c4ecf2fc",
        "colab": {
          "base_uri": "https://localhost:8080/",
          "height": 51
        }
      },
      "source": [
        "# 파이썬 기본 리스트로부터 텐서 생성하기\n",
        "tensor_list = [[1, 2, 3], [4, 5, 6]]\n",
        "tensor_4 = torch.Tensor(tensor_list)\n",
        "print(tensor_4)"
      ],
      "execution_count": 0,
      "outputs": [
        {
          "output_type": "stream",
          "text": [
            "tensor([[1., 2., 3.],\n",
            "        [4., 5., 6.]])\n"
          ],
          "name": "stdout"
        }
      ]
    },
    {
      "cell_type": "code",
      "metadata": {
        "id": "rMmSGlY8TkNy",
        "colab_type": "code",
        "outputId": "7e1875bc-0c95-4f45-b730-9eeec73982dc",
        "colab": {
          "base_uri": "https://localhost:8080/",
          "height": 120
        }
      },
      "source": [
        "# 의사난수로 텐서 생성\n",
        "tensor_5 = torch.rand(2, 3) # 2행 3열의 난수 텐서 생성\n",
        "print(tensor_5)\n",
        "\n",
        "# 최솟값 1, 최댓값 10, 4x4사이즈로 된 정수로 이루어진 의사 난수 텐서 생성\n",
        "tensor_6 = torch.randint(low=1, high=10, size=(4,4)) \n",
        "print(tensor_6)"
      ],
      "execution_count": 0,
      "outputs": [
        {
          "output_type": "stream",
          "text": [
            "tensor([[0.0931, 0.9354, 0.2302],\n",
            "        [0.5588, 0.2843, 0.2120]])\n",
            "tensor([[5, 2, 2, 6],\n",
            "        [5, 3, 5, 9],\n",
            "        [5, 9, 8, 1],\n",
            "        [4, 6, 8, 1]])\n"
          ],
          "name": "stdout"
        }
      ]
    },
    {
      "cell_type": "code",
      "metadata": {
        "id": "0mJpW-prWDEF",
        "colab_type": "code",
        "outputId": "a91a33f6-184f-43f7-abba-7fc2ac021ff0",
        "colab": {
          "base_uri": "https://localhost:8080/",
          "height": 69
        }
      },
      "source": [
        "# 32비트 실수형 텐서\n",
        "tensor_7 = torch.FloatTensor(np.array([[1,2,3],[4,5,6]]))\n",
        "print(tensor_7.type())\n",
        "\n",
        "# 64비트 정수형 텐서\n",
        "tensor_8 = torch.LongTensor(np.array([[1,2,3],[4,5,6]]))\n",
        "print(tensor_8.type())\n",
        "\n",
        "# 8비트 정수형(부호비트X)\n",
        "tensor_9 = torch.ByteTensor([True, False, True, False])\n",
        "print(tensor_9.type())\n"
      ],
      "execution_count": 0,
      "outputs": [
        {
          "output_type": "stream",
          "text": [
            "torch.FloatTensor\n",
            "torch.LongTensor\n",
            "torch.ByteTensor\n"
          ],
          "name": "stdout"
        }
      ]
    },
    {
      "cell_type": "markdown",
      "metadata": {
        "id": "mUpbmQzQYeV5",
        "colab_type": "text"
      },
      "source": [
        "# 2. 텐서 조작해보기"
      ]
    },
    {
      "cell_type": "code",
      "metadata": {
        "id": "uinBpX2Tbacq",
        "colab_type": "code",
        "colab": {}
      },
      "source": [
        "import matplotlib.pyplot as plt"
      ],
      "execution_count": 0,
      "outputs": []
    },
    {
      "cell_type": "code",
      "metadata": {
        "id": "iuQ54AivaLGv",
        "colab_type": "code",
        "colab": {}
      },
      "source": [
        "# 텐서 요소에 접근하기\n",
        "tensor_10 = torch.Tensor([1, 2, 3, 4, 5]) # 1차원 벡터\n",
        "tensor_11 = torch.Tensor([[1, 2],[3, 4]]) # 2차원 행렬\n",
        "tensor_12 = torch.Tensor([[[1, 2],[3, 4]],[[5, 6],[7, 8]]])  # 3차원 큐브"
      ],
      "execution_count": 0,
      "outputs": []
    },
    {
      "cell_type": "code",
      "metadata": {
        "id": "zAzlvY7LaK8y",
        "colab_type": "code",
        "outputId": "d69c47a3-1da1-47b4-9908-8ffafa428b35",
        "colab": {
          "base_uri": "https://localhost:8080/",
          "height": 361
        }
      },
      "source": [
        "# 텐서 인덱싱 연습\n",
        "thisTensor = torch.randint(low=0, high=9, size=(3,5,4))\n",
        "\n",
        "print(thisTensor)\n",
        "print(len(thisTensor))\n",
        "print(len(thisTensor[0]))\n",
        "print(len(thisTensor[0][0]))"
      ],
      "execution_count": 0,
      "outputs": [
        {
          "output_type": "stream",
          "text": [
            "tensor([[[8, 0, 4, 3],\n",
            "         [3, 1, 4, 1],\n",
            "         [2, 7, 4, 0],\n",
            "         [2, 0, 2, 1],\n",
            "         [3, 2, 1, 1]],\n",
            "\n",
            "        [[4, 5, 0, 3],\n",
            "         [1, 5, 6, 4],\n",
            "         [8, 5, 2, 1],\n",
            "         [6, 7, 4, 3],\n",
            "         [2, 4, 4, 8]],\n",
            "\n",
            "        [[6, 8, 4, 4],\n",
            "         [5, 4, 0, 6],\n",
            "         [1, 8, 1, 2],\n",
            "         [6, 5, 3, 2],\n",
            "         [6, 8, 7, 7]]])\n",
            "3\n",
            "5\n",
            "4\n"
          ],
          "name": "stdout"
        }
      ]
    },
    {
      "cell_type": "code",
      "metadata": {
        "id": "DGCOzpjQvm9P",
        "colab_type": "code",
        "colab": {}
      },
      "source": [
        "# 교과서에 있는 함수는 3차원 텐서 전용이기에 수정함\n",
        "import matplotlib.pyplot as plt\n",
        "def show_slice(slc):\n",
        "  if len(slc.size()) > 2: # 3차원 이상일 경우\n",
        "    fig, axes = plt.subplots(len(slc), 1)\n",
        "    for i in range(len(slc)):\n",
        "      axes[i].matshow(slc.numpy()[i], vmin=0, vmax=1, cmap='spring')\n",
        "  else: # 2차원일 경우\n",
        "    fig, axes = plt.subplots()\n",
        "    axes.matshow(slc.numpy(), vmin=0, vmax=1, cmap='summer')\n",
        "  plt.show()"
      ],
      "execution_count": 0,
      "outputs": []
    },
    {
      "cell_type": "code",
      "metadata": {
        "id": "XqnJGEHOMMkR",
        "colab_type": "code",
        "outputId": "bae77937-eb25-468c-c3da-94a68c3c16e4",
        "colab": {
          "base_uri": "https://localhost:8080/",
          "height": 269
        }
      },
      "source": [
        "tensor_13 = torch.randint(low=0, high=9, size=(4, 3)) # 4x3 사이즈의 텐서 만들기\n",
        "slc = torch.ones_like(tensor_13)\n",
        "slc[0,1] = 0  # 1번째 행의 1번째 열을 선택\n",
        "show_slice(slc)\n"
      ],
      "execution_count": 0,
      "outputs": [
        {
          "output_type": "display_data",
          "data": {
            "image/png": "[encoded data removed]",
            "text/plain": [
              "<Figure size 432x288 with 1 Axes>"
            ]
          },
          "metadata": {
            "tags": []
          }
        }
      ]
    },
    {
      "cell_type": "code",
      "metadata": {
        "id": "zikNV7TJT0G1",
        "colab_type": "code",
        "outputId": "fd53821d-905f-4a7d-c966-3cdac6c4bdc7",
        "colab": {
          "base_uri": "https://localhost:8080/",
          "height": 269
        }
      },
      "source": [
        "slc = torch.ones_like(tensor_13)\n",
        "slc[0,:] = 0  # 1번째 행 모두를 선택\n",
        "show_slice(slc)"
      ],
      "execution_count": 0,
      "outputs": [
        {
          "output_type": "display_data",
          "data": {
            "image/png": "[encoded data removed]",
            "text/plain": [
              "<Figure size 432x288 with 1 Axes>"
            ]
          },
          "metadata": {
            "tags": []
          }
        }
      ]
    },
    {
      "cell_type": "code",
      "metadata": {
        "id": "Ib2LDlSmUHqp",
        "colab_type": "code",
        "outputId": "1e54d6cc-0709-4226-b147-f8ddde0807ef",
        "colab": {
          "base_uri": "https://localhost:8080/",
          "height": 269
        }
      },
      "source": [
        "slc = torch.ones_like(tensor_13)\n",
        "slc[2,1:] = 0  # 3번째 행의 2번째 열부터 끝까지 선택\n",
        "show_slice(slc)"
      ],
      "execution_count": 0,
      "outputs": [
        {
          "output_type": "display_data",
          "data": {
            "image/png": "[encoded data removed]",
            "text/plain": [
              "<Figure size 432x288 with 1 Axes>"
            ]
          },
          "metadata": {
            "tags": []
          }
        }
      ]
    },
    {
      "cell_type": "code",
      "metadata": {
        "id": "9R9AMk7PUdF6",
        "colab_type": "code",
        "outputId": "6ec09044-2bb0-4317-a4f7-caf72f10c266",
        "colab": {
          "base_uri": "https://localhost:8080/",
          "height": 269
        }
      },
      "source": [
        "slc = torch.ones_like(tensor_13)\n",
        "slc[1,1:2] = 0  # 2번째 행의 2번째 열만 선택\n",
        "show_slice(slc)"
      ],
      "execution_count": 0,
      "outputs": [
        {
          "output_type": "display_data",
          "data": {
            "image/png": "[encoded data removed]",
            "text/plain": [
              "<Figure size 432x288 with 1 Axes>"
            ]
          },
          "metadata": {
            "tags": []
          }
        }
      ]
    },
    {
      "cell_type": "code",
      "metadata": {
        "id": "Icqc0O2mUs4h",
        "colab_type": "code",
        "outputId": "222eb211-ef81-4612-eea0-025d5b6e904b",
        "colab": {
          "base_uri": "https://localhost:8080/",
          "height": 269
        }
      },
      "source": [
        "slc = torch.ones_like(tensor_13)\n",
        "slc[1:3,1:3] = 0  # 1번째, 2번째 행의 1번째, 2번째 열까지 선택\n",
        "show_slice(slc)"
      ],
      "execution_count": 0,
      "outputs": [
        {
          "output_type": "display_data",
          "data": {
            "image/png": "[encoded data removed]",
            "text/plain": [
              "<Figure size 432x288 with 1 Axes>"
            ]
          },
          "metadata": {
            "tags": []
          }
        }
      ]
    },
    {
      "cell_type": "code",
      "metadata": {
        "id": "eS9yLKvaVEzF",
        "colab_type": "code",
        "outputId": "7193b59c-e2f4-4f36-e702-29e6089dce96",
        "colab": {
          "base_uri": "https://localhost:8080/",
          "height": 269
        }
      },
      "source": [
        "tensor_14 = torch.randint(low=0, high=9, size=(2, 5, 4)) # 2x5x4 사이즈의 텐서 만들기\n",
        "\n",
        "slc = torch.ones_like(tensor_14)\n",
        "slc[1,2:4, 1:3] = 0  # 1번째 면의 2번째, 3번째 행의 1번째, 2번째 열을 선택\n",
        "show_slice(slc)"
      ],
      "execution_count": 0,
      "outputs": [
        {
          "output_type": "display_data",
          "data": {
            "image/png": "[encoded data removed]",
            "text/plain": [
              "<Figure size 432x288 with 2 Axes>"
            ]
          },
          "metadata": {
            "tags": []
          }
        }
      ]
    },
    {
      "cell_type": "code",
      "metadata": {
        "id": "lfa6YNs0b30T",
        "colab_type": "code",
        "colab": {}
      },
      "source": [
        " def tensor_draw(ten): # 정수 텐서의 경우에만 가능하도록 설정\n",
        "  data = ten.numpy()\n",
        "  if len(ten.size()) == 3:  # 3차원 텐서의 경우\n",
        "    for a in range(len(data)):\n",
        "      fig, ax = plt.subplots()\n",
        "      for (b, c), z in np.ndenumerate(data[a]):\n",
        "        ax.matshow(data[a])\n",
        "        ax.text(c, b, '{:d}'.format(z), ha='center', va='center', fontsize=15)\n",
        "      plt.show()   \n",
        "  elif len(ten.size()) <= 2: # 2차원의 경우\n",
        "    if len(ten.size()) == 0: # 스칼라일 경우\n",
        "      data = ten.int().unsqueeze(0).unsqueeze(0).numpy()\n",
        "    elif len(ten.size()) == 1: # 벡터의 경우\n",
        "      data = ten.int().unsqueeze(0).numpy()\n",
        "    fig, ax = plt.subplots()\n",
        "    for (a, b), z in np.ndenumerate(data):\n",
        "      ax.matshow(data)\n",
        "      ax.text(b, a, '{:d}'.format(z), ha='center', va='center', fontsize=15)\n",
        "    plt.show()  "
      ],
      "execution_count": 0,
      "outputs": []
    },
    {
      "cell_type": "code",
      "metadata": {
        "id": "-L6O7Un3z3Yd",
        "colab_type": "code",
        "outputId": "0d0d484f-6aef-4ef2-be02-c3d37a072ae6",
        "colab": {
          "base_uri": "https://localhost:8080/",
          "height": 673
        }
      },
      "source": [
        "tensor_15 = torch.randint(low=0, high=9, size=(3,5,4))\n",
        "print(\"view 연산을 수행하기 전: 5x4 사이즈\")\n",
        "tensor_draw(tensor_15[1]) # 5x4의 크기를 가짐\n",
        "print(\"view 연산을 수행한 후: 4x5 사이즈\")\n",
        "tensor_draw(tensor_15[1].view(4, 5))\n",
        "print(\"view 연산을 수행한 후: 2x10 사이즈\")\n",
        "tensor_draw(tensor_15[1].view(2, -1))"
      ],
      "execution_count": 0,
      "outputs": [
        {
          "output_type": "stream",
          "text": [
            "view 연산을 수행하기 전: 5x4 사이즈\n"
          ],
          "name": "stdout"
        },
        {
          "output_type": "display_data",
          "data": {
            "image/png": "[encoded data removed]",
            "text/plain": [
              "<Figure size 432x288 with 1 Axes>"
            ]
          },
          "metadata": {
            "tags": []
          }
        },
        {
          "output_type": "stream",
          "text": [
            "view 연산을 수행한 후: 4x5 사이즈\n"
          ],
          "name": "stdout"
        },
        {
          "output_type": "display_data",
          "data": {
            "image/png": "[encoded data removed]",
            "text/plain": [
              "<Figure size 432x288 with 1 Axes>"
            ]
          },
          "metadata": {
            "tags": []
          }
        },
        {
          "output_type": "stream",
          "text": [
            "view 연산을 수행한 후: 2x10 사이즈\n"
          ],
          "name": "stdout"
        },
        {
          "output_type": "display_data",
          "data": {
            "image/png": "[encoded data removed]",
            "text/plain": [
              "<Figure size 432x288 with 1 Axes>"
            ]
          },
          "metadata": {
            "tags": []
          }
        }
      ]
    },
    {
      "cell_type": "code",
      "metadata": {
        "id": "osKkaHPp2NId",
        "colab_type": "code",
        "outputId": "4b4f2f8a-0de7-47c4-cba3-14e46f9ae83b",
        "colab": {
          "base_uri": "https://localhost:8080/",
          "height": 555
        }
      },
      "source": [
        "print(\"transpose 연산을 수행하기 전: 5x4 사이즈\")\n",
        "tensor_draw(tensor_15[2])\n",
        "print(\"transpose 연산을 수행한 후: 4x5 사이즈\")\n",
        "tensor_draw(tensor_15[2].transpose(0, 1)) # 첫번째 차원과 두번째 차원을 바꾸어 줌"
      ],
      "execution_count": 0,
      "outputs": [
        {
          "output_type": "stream",
          "text": [
            "transpose 연산을 수행하기 전: 5x4 사이즈\n"
          ],
          "name": "stdout"
        },
        {
          "output_type": "display_data",
          "data": {
            "image/png": "[encoded data removed]",
            "text/plain": [
              "<Figure size 432x288 with 1 Axes>"
            ]
          },
          "metadata": {
            "tags": []
          }
        },
        {
          "output_type": "stream",
          "text": [
            "transpose 연산을 수행한 후: 4x5 사이즈\n"
          ],
          "name": "stdout"
        },
        {
          "output_type": "display_data",
          "data": {
            "image/png": "[encoded data removed]",
            "text/plain": [
              "<Figure size 432x288 with 1 Axes>"
            ]
          },
          "metadata": {
            "tags": []
          }
        }
      ]
    },
    {
      "cell_type": "code",
      "metadata": {
        "id": "qttnQDCl345b",
        "colab_type": "code",
        "outputId": "042b0dad-4295-4914-ee8f-5f395d68bf3a",
        "colab": {
          "base_uri": "https://localhost:8080/",
          "height": 1000
        }
      },
      "source": [
        "print(\"3차원 텐서의 transpose 연산을 수행하기 전: 3x5x4 사이즈\")\n",
        "tensor_draw(tensor_15)\n",
        "print(\"1차원과 3차원의 transpose 연산을 수행 후: 4x5x3 사이즈\")\n",
        "tensor_draw(tensor_15.transpose(0, 2))"
      ],
      "execution_count": 0,
      "outputs": [
        {
          "output_type": "stream",
          "text": [
            "3차원 텐서의 transpose 연산을 수행하기 전: 3x5x4 사이즈\n"
          ],
          "name": "stdout"
        },
        {
          "output_type": "display_data",
          "data": {
            "image/png": "[encoded data removed]",
            "text/plain": [
              "<Figure size 432x288 with 1 Axes>"
            ]
          },
          "metadata": {
            "tags": []
          }
        },
        {
          "output_type": "display_data",
          "data": {
            "image/png": "[encoded data removed]",
            "text/plain": [
              "<Figure size 432x288 with 1 Axes>"
            ]
          },
          "metadata": {
            "tags": []
          }
        },
        {
          "output_type": "display_data",
          "data": {
            "image/png": "[encoded data removed]",
            "text/plain": [
              "<Figure size 432x288 with 1 Axes>"
            ]
          },
          "metadata": {
            "tags": []
          }
        },
        {
          "output_type": "stream",
          "text": [
            "1차원과 3차원의 transpose 연산을 수행 후: 4x5x3 사이즈\n"
          ],
          "name": "stdout"
        },
        {
          "output_type": "display_data",
          "data": {
            "image/png": "[encoded data removed]",
            "text/plain": [
              "<Figure size 432x288 with 1 Axes>"
            ]
          },
          "metadata": {
            "tags": []
          }
        },
        {
          "output_type": "display_data",
          "data": {
            "image/png": "[encoded data removed]",
            "text/plain": [
              "<Figure size 432x288 with 1 Axes>"
            ]
          },
          "metadata": {
            "tags": []
          }
        },
        {
          "output_type": "display_data",
          "data": {
            "image/png": "[encoded data removed]",
            "text/plain": [
              "<Figure size 432x288 with 1 Axes>"
            ]
          },
          "metadata": {
            "tags": []
          }
        },
        {
          "output_type": "display_data",
          "data": {
            "image/png": "[encoded data removed]",
            "text/plain": [
              "<Figure size 432x288 with 1 Axes>"
            ]
          },
          "metadata": {
            "tags": []
          }
        }
      ]
    },
    {
      "cell_type": "code",
      "metadata": {
        "id": "JrjFmMyX3LfA",
        "colab_type": "code",
        "outputId": "de1d3eda-35c4-43e1-d38a-8395d0a6209d",
        "colab": {
          "base_uri": "https://localhost:8080/",
          "height": 481
        }
      },
      "source": [
        "tensor_16 = torch.randint(low=0, high=9, size=(3,7))\n",
        "print(\"전체 전치행렬 수행 전\")\n",
        "tensor_draw(tensor_16)\n",
        "print(\"전체 전치행렬 수행 후\")\n",
        "tensor_draw(tensor_16.t())"
      ],
      "execution_count": 0,
      "outputs": [
        {
          "output_type": "stream",
          "text": [
            "전체 전치행렬 수행 전\n"
          ],
          "name": "stdout"
        },
        {
          "output_type": "display_data",
          "data": {
            "image/png": "[encoded data removed]",
            "text/plain": [
              "<Figure size 432x288 with 1 Axes>"
            ]
          },
          "metadata": {
            "tags": []
          }
        },
        {
          "output_type": "stream",
          "text": [
            "전체 전치행렬 수행 후\n"
          ],
          "name": "stdout"
        },
        {
          "output_type": "display_data",
          "data": {
            "image/png": "[encoded data removed]",
            "text/plain": [
              "<Figure size 432x288 with 1 Axes>"
            ]
          },
          "metadata": {
            "tags": []
          }
        }
      ]
    },
    {
      "cell_type": "code",
      "metadata": {
        "id": "tmx0LnzC4ibK",
        "colab_type": "code",
        "outputId": "250ac94f-8a83-4967-ff65-3e82ea99a3cf",
        "colab": {
          "base_uri": "https://localhost:8080/",
          "height": 1000
        }
      },
      "source": [
        "tensor_17 = torch.randint(low=0, high=9, size=(3,1,4)) # 3x1x4의 크기를 가진 텐서 생성\n",
        "print(\"squeeze 전: 3x1x4\")\n",
        "tensor_draw(tensor_17)\n",
        "print(\"squeeze 후: 3x4\")\n",
        "tensor_draw(tensor_17.squeeze())\n",
        "print(\"생성된 3x4 텐서의 3번째 차원에서 unsqueeze를 하여 크기를 1 증가: 3x4x1\")\n",
        "tensor_draw(tensor_17.squeeze().unsqueeze(2)) # 3번째 차원에 1 추가\n",
        "print(\"생성된 3x4 텐서의 2번째 차원에서 unsqueeze를 하여 크기를 1 증가: 3x1x4\")\n",
        "tensor_draw(tensor_17.squeeze().unsqueeze(1)) # 3번째 차원에 1 추가\n"
      ],
      "execution_count": 0,
      "outputs": [
        {
          "output_type": "stream",
          "text": [
            "squeeze 전: 3x1x4\n"
          ],
          "name": "stdout"
        },
        {
          "output_type": "display_data",
          "data": {
            "image/png": "[encoded data removed]",
            "text/plain": [
              "<Figure size 432x288 with 1 Axes>"
            ]
          },
          "metadata": {
            "tags": []
          }
        },
        {
          "output_type": "display_data",
          "data": {
            "image/png": "[encoded data removed]",
            "text/plain": [
              "<Figure size 432x288 with 1 Axes>"
            ]
          },
          "metadata": {
            "tags": []
          }
        },
        {
          "output_type": "display_data",
          "data": {
            "image/png": "[encoded data removed]",
            "text/plain": [
              "<Figure size 432x288 with 1 Axes>"
            ]
          },
          "metadata": {
            "tags": []
          }
        },
        {
          "output_type": "stream",
          "text": [
            "squeeze 후: 3x4\n"
          ],
          "name": "stdout"
        },
        {
          "output_type": "display_data",
          "data": {
            "image/png": "[encoded data removed]",
            "text/plain": [
              "<Figure size 432x288 with 1 Axes>"
            ]
          },
          "metadata": {
            "tags": []
          }
        },
        {
          "output_type": "stream",
          "text": [
            "생성된 3x4 텐서의 3번째 차원에서 unsqueeze를 하여 크기를 1 증가: 3x4x1\n"
          ],
          "name": "stdout"
        },
        {
          "output_type": "display_data",
          "data": {
            "image/png": "[encoded data removed]",
            "text/plain": [
              "<Figure size 432x288 with 1 Axes>"
            ]
          },
          "metadata": {
            "tags": []
          }
        },
        {
          "output_type": "display_data",
          "data": {
            "image/png": "[encoded data removed]",
            "text/plain": [
              "<Figure size 432x288 with 1 Axes>"
            ]
          },
          "metadata": {
            "tags": []
          }
        },
        {
          "output_type": "display_data",
          "data": {
            "image/png": "[encoded data removed]",
            "text/plain": [
              "<Figure size 432x288 with 1 Axes>"
            ]
          },
          "metadata": {
            "tags": []
          }
        },
        {
          "output_type": "stream",
          "text": [
            "생성된 3x4 텐서의 2번째 차원에서 unsqueeze를 하여 크기를 1 증가: 3x1x4\n"
          ],
          "name": "stdout"
        },
        {
          "output_type": "display_data",
          "data": {
            "image/png": "[encoded data removed]",
            "text/plain": [
              "<Figure size 432x288 with 1 Axes>"
            ]
          },
          "metadata": {
            "tags": []
          }
        },
        {
          "output_type": "display_data",
          "data": {
            "image/png": "[encoded data removed]",
            "text/plain": [
              "<Figure size 432x288 with 1 Axes>"
            ]
          },
          "metadata": {
            "tags": []
          }
        },
        {
          "output_type": "display_data",
          "data": {
            "image/png": "[encoded data removed]",
            "text/plain": [
              "<Figure size 432x288 with 1 Axes>"
            ]
          },
          "metadata": {
            "tags": []
          }
        }
      ]
    },
    {
      "cell_type": "code",
      "metadata": {
        "id": "P_0Hb9Z97qmE",
        "colab_type": "code",
        "outputId": "4a18385e-69f0-4824-aa80-930a6e4701d4",
        "colab": {
          "base_uri": "https://localhost:8080/",
          "height": 1000
        }
      },
      "source": [
        "tensor_18 = torch.randint(low=0, high=9, size=(3,4))\n",
        "tensor_19 = torch.randint(low=0, high=9, size=(3,4))\n",
        "\n",
        "print(\"tensor_18 (3x4)\")\n",
        "tensor_draw(tensor_18)\n",
        "print(\"tensor_19 (3x4)\")\n",
        "tensor_draw(tensor_19)\n",
        "print(\"첫번째 차원을 기준으로 tensor_18과 tensor_19를 이으면 (6x4)\")\n",
        "tensor_draw(torch.cat([tensor_18, tensor_19], dim=0))\n",
        "print(\"두번째 차원을 기준으로 tensor_18과 tensor_19를 이으면 (3x8)\")\n",
        "tensor_draw(torch.cat([tensor_18, tensor_19], dim=1))\n"
      ],
      "execution_count": 0,
      "outputs": [
        {
          "output_type": "stream",
          "text": [
            "tensor_18 (3x4)\n"
          ],
          "name": "stdout"
        },
        {
          "output_type": "display_data",
          "data": {
            "image/png": "[encoded data removed]",
            "text/plain": [
              "<Figure size 432x288 with 1 Axes>"
            ]
          },
          "metadata": {
            "tags": []
          }
        },
        {
          "output_type": "stream",
          "text": [
            "tensor_19 (3x4)\n"
          ],
          "name": "stdout"
        },
        {
          "output_type": "display_data",
          "data": {
            "image/png": "[encoded data removed]",
            "text/plain": [
              "<Figure size 432x288 with 1 Axes>"
            ]
          },
          "metadata": {
            "tags": []
          }
        },
        {
          "output_type": "stream",
          "text": [
            "첫번째 차원을 기준으로 tensor_18과 tensor_19를 이으면 (6x4)\n"
          ],
          "name": "stdout"
        },
        {
          "output_type": "display_data",
          "data": {
            "image/png": "[encoded data removed]",
            "text/plain": [
              "<Figure size 432x288 with 1 Axes>"
            ]
          },
          "metadata": {
            "tags": []
          }
        },
        {
          "output_type": "stream",
          "text": [
            "두번째 차원을 기준으로 tensor_18과 tensor_19를 이으면 (3x8)\n"
          ],
          "name": "stdout"
        },
        {
          "output_type": "display_data",
          "data": {
            "image/png": "[encoded data removed]",
            "text/plain": [
              "<Figure size 432x288 with 1 Axes>"
            ]
          },
          "metadata": {
            "tags": []
          }
        }
      ]
    },
    {
      "cell_type": "code",
      "metadata": {
        "id": "iLnZQW5J7sHI",
        "colab_type": "code",
        "outputId": "a10cde0c-188b-4061-e522-511f7674f14a",
        "colab": {
          "base_uri": "https://localhost:8080/",
          "height": 1000
        }
      },
      "source": [
        "print(\"tensor_18 (3x4)\")\n",
        "tensor_draw(tensor_18)\n",
        "print(\"tensor_19 (3x4)\")\n",
        "tensor_draw(tensor_19)\n",
        "\n",
        "print(\"첫번째 차원을 기준으로 tensor_18과 tensor_19를 stack하면 (1x3x4)\")\n",
        "tensor_draw(torch.stack([tensor_18, tensor_19], dim=0))\n",
        "print(\"tensor_18과 tensor_19 각각의 1번째 차원을 unsqueeze한 후 cat한것과 같은 결과\")\n",
        "tensor_draw(torch.cat([tensor_18.unsqueeze(0), tensor_19.unsqueeze(0)], dim=0))"
      ],
      "execution_count": 0,
      "outputs": [
        {
          "output_type": "stream",
          "text": [
            "tensor_18 (3x4)\n"
          ],
          "name": "stdout"
        },
        {
          "output_type": "display_data",
          "data": {
            "image/png": "[encoded data removed]",
            "text/plain": [
              "<Figure size 432x288 with 1 Axes>"
            ]
          },
          "metadata": {
            "tags": []
          }
        },
        {
          "output_type": "stream",
          "text": [
            "tensor_19 (3x4)\n"
          ],
          "name": "stdout"
        },
        {
          "output_type": "display_data",
          "data": {
            "image/png": "[encoded data removed]",
            "text/plain": [
              "<Figure size 432x288 with 1 Axes>"
            ]
          },
          "metadata": {
            "tags": []
          }
        },
        {
          "output_type": "stream",
          "text": [
            "첫번째 차원을 기준으로 tensor_18과 tensor_19를 stack하면 (1x3x4)\n"
          ],
          "name": "stdout"
        },
        {
          "output_type": "display_data",
          "data": {
            "image/png": "[encoded data removed]",
            "text/plain": [
              "<Figure size 432x288 with 1 Axes>"
            ]
          },
          "metadata": {
            "tags": []
          }
        },
        {
          "output_type": "display_data",
          "data": {
            "image/png": "[encoded data removed]",
            "text/plain": [
              "<Figure size 432x288 with 1 Axes>"
            ]
          },
          "metadata": {
            "tags": []
          }
        },
        {
          "output_type": "stream",
          "text": [
            "tensor_18과 tensor_19 각각의 1번째 차원을 unsqueeze한 후 cat한것과 같은 결과\n"
          ],
          "name": "stdout"
        },
        {
          "output_type": "display_data",
          "data": {
            "image/png": "[encoded data removed]",
            "text/plain": [
              "<Figure size 432x288 with 1 Axes>"
            ]
          },
          "metadata": {
            "tags": []
          }
        },
        {
          "output_type": "display_data",
          "data": {
            "image/png": "[encoded data removed]",
            "text/plain": [
              "<Figure size 432x288 with 1 Axes>"
            ]
          },
          "metadata": {
            "tags": []
          }
        }
      ]
    },
    {
      "cell_type": "code",
      "metadata": {
        "id": "iykklJWF_eUa",
        "colab_type": "code",
        "outputId": "0a2b3d4c-2c12-4d18-ebd4-35cee18b4b3d",
        "colab": {
          "base_uri": "https://localhost:8080/",
          "height": 996
        }
      },
      "source": [
        "tensor_20 = torch.randint(low=0, high=9, size=(1,3))\n",
        "tensor_21 = torch.randint(low=0, high=9, size=(1,3))\n",
        "print(\"tensor_20\")\n",
        "tensor_draw(tensor_20)\n",
        "print(\"tensor_21\")\n",
        "tensor_draw(tensor_21)\n",
        "print(\"tensor_20 + tensor_21 = ?\")\n",
        "tensor_draw(torch.add(tensor_20, tensor_21))\n",
        "print(\"tensor_20 - tensor_21 = ?\")\n",
        "tensor_draw(torch.sub(tensor_20, tensor_21))\n",
        "print(\"tensor_20 + 3(스칼라) = ?\")\n",
        "tensor_draw(tensor_20 + 3)\n",
        "print(\"tensor_21 - 3(스칼라) = ?\")\n",
        "tensor_draw(tensor_21 - 3)\n"
      ],
      "execution_count": 0,
      "outputs": [
        {
          "output_type": "stream",
          "text": [
            "tensor_20\n"
          ],
          "name": "stdout"
        },
        {
          "output_type": "display_data",
          "data": {
            "image/png": "[encoded data removed]",
            "text/plain": [
              "<Figure size 432x288 with 1 Axes>"
            ]
          },
          "metadata": {
            "tags": []
          }
        },
        {
          "output_type": "stream",
          "text": [
            "tensor_21\n"
          ],
          "name": "stdout"
        },
        {
          "output_type": "display_data",
          "data": {
            "image/png": "[encoded data removed]",
            "text/plain": [
              "<Figure size 432x288 with 1 Axes>"
            ]
          },
          "metadata": {
            "tags": []
          }
        },
        {
          "output_type": "stream",
          "text": [
            "tensor_20 + tensor_21 = ?\n"
          ],
          "name": "stdout"
        },
        {
          "output_type": "display_data",
          "data": {
            "image/png": "[encoded data removed]",
            "text/plain": [
              "<Figure size 432x288 with 1 Axes>"
            ]
          },
          "metadata": {
            "tags": []
          }
        },
        {
          "output_type": "stream",
          "text": [
            "tensor_20 - tensor_21 = ?\n"
          ],
          "name": "stdout"
        },
        {
          "output_type": "display_data",
          "data": {
            "image/png": "[encoded data removed]",
            "text/plain": [
              "<Figure size 432x288 with 1 Axes>"
            ]
          },
          "metadata": {
            "tags": []
          }
        },
        {
          "output_type": "stream",
          "text": [
            "tensor_20 + 3(스칼라) = ?\n"
          ],
          "name": "stdout"
        },
        {
          "output_type": "display_data",
          "data": {
            "image/png": "[encoded data removed]",
            "text/plain": [
              "<Figure size 432x288 with 1 Axes>"
            ]
          },
          "metadata": {
            "tags": []
          }
        },
        {
          "output_type": "stream",
          "text": [
            "tensor_21 - 3(스칼라) = ?\n"
          ],
          "name": "stdout"
        },
        {
          "output_type": "display_data",
          "data": {
            "image/png": "[encoded data removed]",
            "text/plain": [
              "<Figure size 432x288 with 1 Axes>"
            ]
          },
          "metadata": {
            "tags": []
          }
        }
      ]
    },
    {
      "cell_type": "code",
      "metadata": {
        "id": "Int7JdUsBUD4",
        "colab_type": "code",
        "outputId": "23c477f8-02a0-49ea-9b2e-4f9e2272e8fd",
        "colab": {
          "base_uri": "https://localhost:8080/",
          "height": 962
        }
      },
      "source": [
        "print(\"tensor_20\")\n",
        "tensor_draw(tensor_20)\n",
        "print(\"tensor_21\")\n",
        "tensor_draw(tensor_21)\n",
        "print(\"tensor_20 * tensor_21 = ? (원소단위 곱)\")\n",
        "tensor_draw(tensor_20 * tensor_21) # 책에서와는 달리 연산자로도 가능\n",
        "tensor_draw(torch.mul(tensor_20, tensor_21))\n",
        "print(\"tensor_20 / tensor_21 = ? (원소단위 나눗셈)\")\n",
        "tensor_draw(tensor_20 / tensor_21) # 나머지 소숫점은 형이 정수이기 때문에 버려짐\n",
        "tensor_draw(torch.div(tensor_20, tensor_21))"
      ],
      "execution_count": 0,
      "outputs": [
        {
          "output_type": "stream",
          "text": [
            "tensor_20\n"
          ],
          "name": "stdout"
        },
        {
          "output_type": "display_data",
          "data": {
            "image/png": "[encoded data removed]",
            "text/plain": [
              "<Figure size 432x288 with 1 Axes>"
            ]
          },
          "metadata": {
            "tags": []
          }
        },
        {
          "output_type": "stream",
          "text": [
            "tensor_21\n"
          ],
          "name": "stdout"
        },
        {
          "output_type": "display_data",
          "data": {
            "image/png": "[encoded data removed]",
            "text/plain": [
              "<Figure size 432x288 with 1 Axes>"
            ]
          },
          "metadata": {
            "tags": []
          }
        },
        {
          "output_type": "stream",
          "text": [
            "tensor_20 * tensor_21 = ? (원소단위 곱)\n"
          ],
          "name": "stdout"
        },
        {
          "output_type": "display_data",
          "data": {
            "image/png": "[encoded data removed]",
            "text/plain": [
              "<Figure size 432x288 with 1 Axes>"
            ]
          },
          "metadata": {
            "tags": []
          }
        },
        {
          "output_type": "display_data",
          "data": {
            "image/png": "[encoded data removed]",
            "text/plain": [
              "<Figure size 432x288 with 1 Axes>"
            ]
          },
          "metadata": {
            "tags": []
          }
        },
        {
          "output_type": "stream",
          "text": [
            "tensor_20 / tensor_21 = ? (원소단위 나눗셈)\n"
          ],
          "name": "stdout"
        },
        {
          "output_type": "display_data",
          "data": {
            "image/png": "[encoded data removed]",
            "text/plain": [
              "<Figure size 432x288 with 1 Axes>"
            ]
          },
          "metadata": {
            "tags": []
          }
        },
        {
          "output_type": "display_data",
          "data": {
            "image/png": "[encoded data removed]",
            "text/plain": [
              "<Figure size 432x288 with 1 Axes>"
            ]
          },
          "metadata": {
            "tags": []
          }
        }
      ]
    },
    {
      "cell_type": "code",
      "metadata": {
        "id": "4pHibz5NCN-a",
        "colab_type": "code",
        "outputId": "2b6cd5fd-9b6c-4be1-eb17-f6176c88bebc",
        "colab": {
          "base_uri": "https://localhost:8080/",
          "height": 613
        }
      },
      "source": [
        "tensor_22 = torch.Tensor([3, 4, 2])\n",
        "tensor_23 = torch.Tensor([6, 1, 9])\n",
        "\n",
        "print(\"tensor_22\")\n",
        "tensor_draw(tensor_22)\n",
        "print(\"tensor_23\")\n",
        "tensor_draw(tensor_23)\n",
        "print(\"tensor_22와 tensor_23의 내적\")\n",
        "tensor_draw(tensor_22.dot(tensor_23))"
      ],
      "execution_count": 0,
      "outputs": [
        {
          "output_type": "stream",
          "text": [
            "tensor_22\n"
          ],
          "name": "stdout"
        },
        {
          "output_type": "display_data",
          "data": {
            "image/png": "[encoded data removed]",
            "text/plain": [
              "<Figure size 432x288 with 1 Axes>"
            ]
          },
          "metadata": {
            "tags": []
          }
        },
        {
          "output_type": "stream",
          "text": [
            "tensor_23\n"
          ],
          "name": "stdout"
        },
        {
          "output_type": "display_data",
          "data": {
            "image/png": "[encoded data removed]",
            "text/plain": [
              "<Figure size 432x288 with 1 Axes>"
            ]
          },
          "metadata": {
            "tags": []
          }
        },
        {
          "output_type": "stream",
          "text": [
            "tensor_22와 tensor_23의 내적\n"
          ],
          "name": "stdout"
        },
        {
          "output_type": "display_data",
          "data": {
            "image/png": "[encoded data removed]",
            "text/plain": [
              "<Figure size 432x288 with 1 Axes>"
            ]
          },
          "metadata": {
            "tags": []
          }
        }
      ]
    },
    {
      "cell_type": "code",
      "metadata": {
        "id": "0WiU-EDZuPcn",
        "colab_type": "code",
        "outputId": "c85fa3ac-9a84-4150-a4b7-6145aeedd993",
        "colab": {
          "base_uri": "https://localhost:8080/",
          "height": 790
        }
      },
      "source": [
        "tensor_24 = torch.randint(low=1, high=9, size=(3,2))\n",
        "tensor_25 = torch.randint(low=1, high=9, size=(2,2))\n",
        "\n",
        "tensor_draw(tensor_24)\n",
        "tensor_draw(tensor_25)\n",
        "print(\"tensor_24와 tensor_25의 행렬곱 결과\")\n",
        "tensor_draw(tensor_24.mm(tensor_25))"
      ],
      "execution_count": 0,
      "outputs": [
        {
          "output_type": "display_data",
          "data": {
            "image/png": "[encoded data removed]",
            "text/plain": [
              "<Figure size 432x288 with 1 Axes>"
            ]
          },
          "metadata": {
            "tags": []
          }
        },
        {
          "output_type": "display_data",
          "data": {
            "image/png": "[encoded data removed]",
            "text/plain": [
              "<Figure size 432x288 with 1 Axes>"
            ]
          },
          "metadata": {
            "tags": []
          }
        },
        {
          "output_type": "stream",
          "text": [
            "tensor_24와 tensor_25의 행렬곱 결과\n"
          ],
          "name": "stdout"
        },
        {
          "output_type": "display_data",
          "data": {
            "image/png": "[encoded data removed]",
            "text/plain": [
              "<Figure size 432x288 with 1 Axes>"
            ]
          },
          "metadata": {
            "tags": []
          }
        }
      ]
    },
    {
      "cell_type": "code",
      "metadata": {
        "id": "EZL_mlB0vESD",
        "colab_type": "code",
        "outputId": "6e99f9f7-371f-41cf-8ad9-d15960151720",
        "colab": {
          "base_uri": "https://localhost:8080/",
          "height": 555
        }
      },
      "source": [
        "tensor_26 = torch.randint(low=1, high=10, size=(2,3))\n",
        "\n",
        "print(\"tensor_26\")\n",
        "tensor_draw(tensor_26)\n",
        "print(\"tensor_26의 모든 원소의 합\")\n",
        "tensor_draw(torch.sum(tensor_26))"
      ],
      "execution_count": 0,
      "outputs": [
        {
          "output_type": "stream",
          "text": [
            "tensor_26\n"
          ],
          "name": "stdout"
        },
        {
          "output_type": "display_data",
          "data": {
            "image/png": "[encoded data removed]",
            "text/plain": [
              "<Figure size 432x288 with 1 Axes>"
            ]
          },
          "metadata": {
            "tags": []
          }
        },
        {
          "output_type": "stream",
          "text": [
            "tensor_26의 모든 원소의 합\n"
          ],
          "name": "stdout"
        },
        {
          "output_type": "display_data",
          "data": {
            "image/png": "[encoded data removed]",
            "text/plain": [
              "<Figure size 432x288 with 1 Axes>"
            ]
          },
          "metadata": {
            "tags": []
          }
        }
      ]
    },
    {
      "cell_type": "code",
      "metadata": {
        "id": "3eOaepj18VE_",
        "colab_type": "code",
        "outputId": "d20c8cdc-ea61-4342-cd59-5625e3065569",
        "colab": {
          "base_uri": "https://localhost:8080/",
          "height": 751
        }
      },
      "source": [
        "tensor_27 = torch.randint(low=1, high=99, size=(3,7))\n",
        "\n",
        "print(\"tensor_27\")\n",
        "tensor_draw(tensor_27)\n",
        "print(\"tensor_27의 모든 원소의 최댓값\")\n",
        "tensor_draw(torch.max(tensor_27))\n",
        "print(\"tensor_27의 모든 원소의 최솟값\")\n",
        "tensor_draw(torch.min(tensor_27))"
      ],
      "execution_count": 0,
      "outputs": [
        {
          "output_type": "stream",
          "text": [
            "tensor_27\n"
          ],
          "name": "stdout"
        },
        {
          "output_type": "display_data",
          "data": {
            "image/png": "[encoded data removed]",
            "text/plain": [
              "<Figure size 432x288 with 1 Axes>"
            ]
          },
          "metadata": {
            "tags": []
          }
        },
        {
          "output_type": "stream",
          "text": [
            "tensor_27의 모든 원소의 최댓값\n"
          ],
          "name": "stdout"
        },
        {
          "output_type": "display_data",
          "data": {
            "image/png": "[encoded data removed]",
            "text/plain": [
              "<Figure size 432x288 with 1 Axes>"
            ]
          },
          "metadata": {
            "tags": []
          }
        },
        {
          "output_type": "stream",
          "text": [
            "tensor_27의 모든 원소의 최솟값\n"
          ],
          "name": "stdout"
        },
        {
          "output_type": "display_data",
          "data": {
            "image/png": "[encoded data removed]",
            "text/plain": [
              "<Figure size 432x288 with 1 Axes>"
            ]
          },
          "metadata": {
            "tags": []
          }
        }
      ]
    },
    {
      "cell_type": "code",
      "metadata": {
        "id": "Dsym8JSgPUUD",
        "colab_type": "code",
        "outputId": "a1b655f8-a38a-415d-fb1e-8d5a7dff615b",
        "colab": {
          "base_uri": "https://localhost:8080/",
          "height": 189
        }
      },
      "source": [
        "tensor_28 = torch.Tensor([-3, 2, 0])\n",
        "\n",
        "# 0과 같다.\n",
        "print(tensor_28.eq(0))\n",
        "print(tensor_28 == 0)\n",
        "\n",
        "# 0보다 크거나 같다.\n",
        "print(tensor_28.ge(0))\n",
        "print(tensor_28 >= 0)\n",
        "\n",
        "# 0보다 크다.\n",
        "print(tensor_28.gt(0))\n",
        "print(tensor_28 > 0)\n",
        "\n",
        "# 0보다 작거나 같다.\n",
        "print(tensor_28.le(0))\n",
        "print(tensor_28 <= 0)\n",
        "\n",
        "# 0보다 작다.\n",
        "print(tensor_28.lt(0))\n",
        "print(tensor_28 < 0)\n"
      ],
      "execution_count": 0,
      "outputs": [
        {
          "output_type": "stream",
          "text": [
            "tensor([False, False,  True])\n",
            "tensor([False, False,  True])\n",
            "tensor([False,  True,  True])\n",
            "tensor([False,  True,  True])\n",
            "tensor([False,  True, False])\n",
            "tensor([False,  True, False])\n",
            "tensor([ True, False,  True])\n",
            "tensor([ True, False,  True])\n",
            "tensor([ True, False, False])\n",
            "tensor([ True, False, False])\n"
          ],
          "name": "stdout"
        }
      ]
    },
    {
      "cell_type": "markdown",
      "metadata": {
        "id": "RdLEGJzF-M5P",
        "colab_type": "text"
      },
      "source": [
        "## 가중치와 bias를 조절해서 AND, OR, NAND 연산 구현하기"
      ]
    },
    {
      "cell_type": "code",
      "metadata": {
        "id": "UXXSYMo7-Oin",
        "colab_type": "code",
        "colab": {}
      },
      "source": [
        "import torch\n",
        "\n",
        "# 계단함수 정의\n",
        "def STEP(z):\n",
        "  if z > 0:\n",
        "    return True\n",
        "  else:\n",
        "    return False\n",
        "\n",
        "# AND, OR, NAND 함수 정의\n",
        "def AND(x, w, b):\n",
        "  z = torch.dot(x, w) + b\n",
        "  y = STEP(z)\n",
        "  return y\n",
        "def OR(x, w, b):\n",
        "  y = torch.dot(x, w) + b\n",
        "  a = STEP(y)\n",
        "  return a\n",
        "def NAND(x, w, b):\n",
        "  y = torch.dot(x, w) + b\n",
        "  a = STEP(y)\n",
        "  return a\n",
        "\n",
        "# 각 연산에 맞는 가중치 생성\n",
        "\n",
        "w_and = torch.Tensor([0.5, 0.5])\n",
        "b_and = torch.Tensor([-0.7])\n",
        "w_or = torch.Tensor([0.5, 0.5])\n",
        "b_or = torch.Tensor([-0.2])\n",
        "w_nand = torch.Tensor([-0.5, -0.5])\n",
        "b_nand = torch.Tensor([0.7])\n",
        "\n",
        "# 입력할 진릿값\n",
        "\n",
        "X = torch.Tensor([[0, 0],\n",
        "                  [0, 1],\n",
        "                  [1, 0],\n",
        "                  [1, 1]])"
      ],
      "execution_count": 0,
      "outputs": []
    },
    {
      "cell_type": "code",
      "metadata": {
        "id": "TcdSIqQk-ROe",
        "colab_type": "code",
        "colab": {}
      },
      "source": [
        "# 연산 결과 확인\n",
        "for x in X:\n",
        "  print(\"Input : \",x.long().tolist())\n",
        "  print(\"===AND:\", AND(x, w=w_and, b=b_and))\n",
        "  print(\"===OR:\", OR(x, w=w_or, b=b_or))\n",
        "  print(\"===NAND:\", NAND(x, w=w_nand, b=b_nand))\n"
      ],
      "execution_count": 0,
      "outputs": []
    },
    {
      "cell_type": "markdown",
      "metadata": {
        "id": "z29C20TY-TX3",
        "colab_type": "text"
      },
      "source": [
        "## 두 개의 퍼셉트론으로 XOR 계산하기"
      ]
    },
    {
      "cell_type": "code",
      "metadata": {
        "id": "adCaaF2F-Vz9",
        "colab_type": "code",
        "colab": {}
      },
      "source": [
        "def XOR(x, **kwargs):\n",
        "  s1 = NAND(x, w=kwargs['w_nand'], b=kwargs['b_nand'])\n",
        "  s2 = OR(x, w=kwargs['w_or'], b=kwargs['b_or'])\n",
        "  result = AND(torch.Tensor([s1, s2]), w=kwargs['w_and'], b=kwargs['b_and'])\n",
        "  return result"
      ],
      "execution_count": 0,
      "outputs": []
    },
    {
      "cell_type": "code",
      "metadata": {
        "id": "fgQUJr6Q-YFk",
        "colab_type": "code",
        "colab": {}
      },
      "source": [
        "# 계산 결과 확인\n",
        "input_data = torch.FloatTensor([[0, 0],\n",
        "                               [1, 0],\n",
        "                               [0, 1],\n",
        "                               [1, 1]])\n",
        "kwargs = dict([('w_nand', w_nand), ('b_nand', b_nand),\n",
        "               ('w_or', w_or), ('b_or', b_or),\n",
        "               ('w_and', w_and), ('b_and', b_and)])\n",
        "\n",
        "for x in input_data:\n",
        "  pred = XOR(x, **kwargs)\n",
        "  print(\"Input: \",x.long().tolist())\n",
        "  print(\"===XOR: {}\".format(pred))"
      ],
      "execution_count": 0,
      "outputs": []
    },
    {
      "cell_type": "markdown",
      "metadata": {
        "id": "Xi0nqAW5-aRb",
        "colab_type": "text"
      },
      "source": [
        "## 간단한 다중퍼셉트론 일일이 구현해 보기"
      ]
    },
    {
      "cell_type": "code",
      "metadata": {
        "id": "E-aAKBmx-cwK",
        "colab_type": "code",
        "colab": {}
      },
      "source": [
        "import torch\n",
        "torch.manual_seed(70)\n",
        "# 입력 데이터 생성\n",
        "x = torch.Tensor([[0, 1]])\n",
        "\n",
        "## 입력층 -> 은닉층\n",
        "W1 = torch.rand((2, 2))\n",
        "b1 = torch.rand((1, 2))\n",
        "z1 = torch.mm(x, W1.t()) + b1\n",
        "a1 = torch.sigmoid(z1)\n",
        "## 은닉층 -> 출력층\n",
        "W2 = torch.rand((1, 2))\n",
        "b2 = torch.rand((1, 1))\n",
        "z2 = torch.mm(a1, W2.t()) + b2\n",
        "y = torch.sigmoid(z2)\n",
        "\n",
        "print(y.item())"
      ],
      "execution_count": 0,
      "outputs": []
    },
    {
      "cell_type": "markdown",
      "metadata": {
        "id": "6Wa05XDv-hZj",
        "colab_type": "text"
      },
      "source": [
        "## Torch.nn을 사용해 다중퍼셉트론 구현해 보기"
      ]
    },
    {
      "cell_type": "code",
      "metadata": {
        "id": "3uBup5W4-gx7",
        "colab_type": "code",
        "colab": {}
      },
      "source": [
        "import torch\n",
        "import torch.nn as nn\n",
        "\n",
        "# 입력층 -> 은닉층\n",
        "linear_ih = nn.Linear(in_features=2, out_features=2)\n",
        "# 은닉층 -> 출력층\n",
        "linear_ho = nn.Linear(in_features=2, out_features=1)\n",
        "activation_layer = nn.Sigmoid()\n",
        "\n",
        "z1 = linear_ih(x)\n",
        "a1 = activation_layer(z1)\n",
        "z2 = linear_ho(a1)\n",
        "y = activation_layer(z2)\n",
        "print(y.item())"
      ],
      "execution_count": 0,
      "outputs": []
    },
    {
      "cell_type": "markdown",
      "metadata": {
        "id": "kvLh8lm9-mCU",
        "colab_type": "text"
      },
      "source": [
        "## 사용자 정의 신경망 모듈"
      ]
    },
    {
      "cell_type": "code",
      "metadata": {
        "id": "TXEiERTJ-okL",
        "colab_type": "code",
        "colab": {}
      },
      "source": [
        "class Network(nn.Module):\n",
        "  \"\"\"XOR NETWORK\"\"\"\n",
        "  def __init__(self, input_size, hidden_size, output_size):\n",
        "    super(Network, self).__init__()\n",
        "    self.linear_ih = nn.Linear(in_features=input_size,\n",
        "                               out_features=hidden_size)\n",
        "    self.linear_ho = nn.Linear(in_features=hidden_size,\n",
        "                               out_features=output_size)\n",
        "    self.activation_layer = nn.Sigmoid()\n",
        "\n",
        "  def forward(self, x):\n",
        "    z1 = self.linear_ih(x)\n",
        "    a1 = self.activation_layer(z1)\n",
        "    z2 = self.linear_ho(a1)\n",
        "    y = self.activation_layer(z2)\n",
        "    return y"
      ],
      "execution_count": 0,
      "outputs": []
    },
    {
      "cell_type": "code",
      "metadata": {
        "id": "bLRusRaR-qog",
        "colab_type": "code",
        "colab": {}
      },
      "source": [
        "# 만든 클래스 사용해보기\n",
        "net = Network(input_size=2, hidden_size=2, output_size=1)\n",
        "y = net(x)\n",
        "print(y.item())"
      ],
      "execution_count": 0,
      "outputs": []
    },
    {
      "cell_type": "markdown",
      "metadata": {
        "id": "tj-0Ossk-sY4",
        "colab_type": "text"
      },
      "source": [
        "## Softmax\n"
      ]
    },
    {
      "cell_type": "code",
      "metadata": {
        "id": "70qPickF-vZD",
        "colab_type": "code",
        "colab": {}
      },
      "source": [
        "import torch\n",
        "\n",
        "torch.manual_seed(70)\n",
        "z = torch.rand(1, 10)\n",
        "print(z)\n",
        "softmaxed = torch.softmax(z, dim=1)\n",
        "print(softmaxed)"
      ],
      "execution_count": 0,
      "outputs": []
    },
    {
      "cell_type": "code",
      "metadata": {
        "id": "5CerWo7z-yKh",
        "colab_type": "code",
        "colab": {}
      },
      "source": [
        "import torch.nn as nn\n",
        "s = nn.Sigmoid()\n",
        "sigmoided = s(z)\n",
        "print(\"Sigmoid 결과값\")\n",
        "print(sigmoided)\n",
        "print(\"Sigmoid 결과값의 총 합\")\n",
        "print(sigmoided.sum())\n",
        "print(\"Softmax 결과값\")\n",
        "print(softmaxed)\n",
        "print(\"Softmax 결과값의 총 합\")\n",
        "print(softmaxed.sum())"
      ],
      "execution_count": 0,
      "outputs": []
    },
    {
      "cell_type": "markdown",
      "metadata": {
        "id": "y75U-vHj-unF",
        "colab_type": "text"
      },
      "source": [
        "## Binary Cross Entropy for XOR problem"
      ]
    },
    {
      "cell_type": "code",
      "metadata": {
        "id": "gS6UKRGs-32g",
        "colab_type": "code",
        "colab": {}
      },
      "source": [
        "import torch\n",
        "import torch.nn as nn\n",
        "\n",
        "torch.manual_seed(70)\n",
        "\n",
        "x = torch.Tensor([[0, 1]]) #입력 텐서\n",
        "t = torch.Tensor([1]) #타겟 텐서\n",
        "\n",
        "net = Network(input_size=2, hidden_size=2, output_size=1) #XOR 네트워크 호출\n",
        "y = net(x)\n",
        "\n",
        "loss_function = nn.BCELoss(reduction=\"sum\")\n",
        "print(loss_function(y.squeeze(1), t))"
      ],
      "execution_count": 0,
      "outputs": []
    },
    {
      "cell_type": "markdown",
      "metadata": {
        "id": "v1q2x4Hx_o-M",
        "colab_type": "text"
      },
      "source": [
        "# 오차역전파\n",
        "\n",
        "> 2.2.6 장에 해당하는 코드"
      ]
    },
    {
      "cell_type": "code",
      "metadata": {
        "id": "77YTk1yT_3cv",
        "colab_type": "code",
        "colab": {}
      },
      "source": [
        "import torch\n",
        "import matplotlib.pyplot as plt"
      ],
      "execution_count": 0,
      "outputs": []
    },
    {
      "cell_type": "markdown",
      "metadata": {
        "id": "E1uzinDR_rfh",
        "colab_type": "text"
      },
      "source": [
        "## 미분 계산하기"
      ]
    },
    {
      "cell_type": "code",
      "metadata": {
        "id": "CUyY9GfT_y7K",
        "colab_type": "code",
        "colab": {}
      },
      "source": [
        "# 코드 2-15\n",
        "\n",
        "def function(x):\n",
        "    \"\"\"원래 함수\"\"\"\n",
        "    return x**2\n",
        "\n",
        "def prime_function(x):\n",
        "    \"\"\"도함수\"\"\"\n",
        "    return 2*x\n",
        "\n",
        "x0 = torch.FloatTensor([4])\n",
        "y0 = prime_function(x0)\n",
        "print(\"differentiation of x={} is {:.1f}\".format(x0.item(), y0.item()))"
      ],
      "execution_count": 0,
      "outputs": []
    },
    {
      "cell_type": "markdown",
      "metadata": {
        "id": "vNHpuqa4_69p",
        "colab_type": "text"
      },
      "source": [
        "## 매개변수 개수 구하기"
      ]
    },
    {
      "cell_type": "code",
      "metadata": {
        "id": "jVVB0x8D_90X",
        "colab_type": "code",
        "colab": {}
      },
      "source": [
        "# 코드 2-16\n",
        "\n",
        "import torch.nn as nn\n",
        "\n",
        "torch.manual_seed(70)\n",
        "\n",
        "class Network(nn.Module):\n",
        "    \"\"\"XOR Network\"\"\"\n",
        "    def __init__(self, input_size, hidden_size, output_size):\n",
        "        super(Network, self).__init__()\n",
        "        # 층을 구성\n",
        "        # input layer > hidden layer \n",
        "        self.linear_ih = nn.Linear(in_features=input_size, out_features=hidden_size)\n",
        "        # hidden layer > output layer\n",
        "        self.linear_ho = nn.Linear(in_features=hidden_size, out_features=output_size)\n",
        "        # activation layer\n",
        "        self.activation_layer = nn.Sigmoid()\n",
        "        \n",
        "    def forward(self, x):\n",
        "        z1 = self.linear_ih(x)\n",
        "        a1 = self.activation_layer(z1)\n",
        "        z2 = self.linear_ho(a1)\n",
        "        y = self.activation_layer(z2)\n",
        "        return y\n",
        "\n",
        "net = Network(input_size=2, hidden_size=2, output_size=1)\n",
        "num_params = 0\n",
        "for p in net.parameters():\n",
        "    num_params += p.view(-1).size(0)\n",
        "print(num_params)"
      ],
      "execution_count": 0,
      "outputs": []
    },
    {
      "cell_type": "markdown",
      "metadata": {
        "id": "uW2idAwrAA4C",
        "colab_type": "text"
      },
      "source": [
        "## 계산그래프\n",
        "\n",
        "### z 함수 순방향 전파"
      ]
    },
    {
      "cell_type": "code",
      "metadata": {
        "id": "bTgQS40EAAnq",
        "colab_type": "code",
        "colab": {}
      },
      "source": [
        "# 코드 2-17\n",
        "\n",
        "def z_function(t):\n",
        "    return t**2\n",
        "\n",
        "def t_function(x, y):\n",
        "    return x + y\n",
        "\n",
        "def forward(x, y):\n",
        "    t = t_function(x, y)\n",
        "    z = z_function(t)\n",
        "    return z\n",
        "\n",
        "x = torch.Tensor([1])\n",
        "y = torch.Tensor([3])\n",
        "z = forward(x, y)\n",
        "print(z)"
      ],
      "execution_count": 0,
      "outputs": []
    },
    {
      "cell_type": "markdown",
      "metadata": {
        "id": "NuSe-Xi2AFO0",
        "colab_type": "text"
      },
      "source": [
        "### z 함수 역방향 전파"
      ]
    },
    {
      "cell_type": "code",
      "metadata": {
        "id": "s7pOWEOBAH71",
        "colab_type": "code",
        "colab": {}
      },
      "source": [
        "# 코드 2-18\n",
        "\n",
        "def z_prime(t):\n",
        "    \"\"\"dz/dt\"\"\"\n",
        "    return 2*t\n",
        "\n",
        "def t_prime():\n",
        "    \"\"\"dt/dx = dt/dy\"\"\"\n",
        "    return 1\n",
        "\n",
        "def backward(t):\n",
        "    \"\"\"dz/dx\"\"\"\n",
        "    dx = z_prime(t) * t_prime()\n",
        "    return dx\n",
        "\n",
        "x = torch.Tensor([1])\n",
        "y = torch.Tensor([3])\n",
        "t = t_function(x, y)\n",
        "dx = backward(t)\n",
        "print(dx)"
      ],
      "execution_count": 0,
      "outputs": []
    },
    {
      "cell_type": "markdown",
      "metadata": {
        "id": "neaesF9fAK2V",
        "colab_type": "text"
      },
      "source": [
        "### 역전파 수행과정"
      ]
    },
    {
      "cell_type": "code",
      "metadata": {
        "id": "bjUZFH9WAMw3",
        "colab_type": "code",
        "colab": {}
      },
      "source": [
        "# 코드 2-19\n",
        "\n",
        "x = torch.Tensor([1]).requires_grad_()\n",
        "y = torch.Tensor([3])\n",
        "z = forward(x, y)\n",
        "\n",
        "# gradient가 필요한지 점검\n",
        "print(\"requires grad: x={} y={}, z={}\".format(\n",
        "    x.requires_grad, y.requires_grad, z.requires_grad))\n",
        "print(\"gradient function of z: {}\".format(z.grad_fn))\n",
        "\n",
        "# 역전파 수행 버튼\n",
        "z.backward()\n",
        "print(\"dx = {}\".format(x.grad))"
      ],
      "execution_count": 0,
      "outputs": []
    },
    {
      "cell_type": "markdown",
      "metadata": {
        "id": "9PGe7BOKAPiH",
        "colab_type": "text"
      },
      "source": [
        "# 오차역전파"
      ]
    },
    {
      "cell_type": "code",
      "metadata": {
        "id": "ELA6efF5ARnR",
        "colab_type": "code",
        "colab": {}
      },
      "source": [
        "# 코드 2-20\n",
        "\n",
        "import torch.optim as optim\n",
        "\n",
        "# 입력과 타겟텐서 생성\n",
        "x = torch.Tensor([[0, 0], [0, 1], [1, 0], [1, 1]])\n",
        "t = torch.Tensor([0, 1, 1, 0])\n",
        "\n",
        "# 이전에 만든 XOR 네트워크 정의\n",
        "net = Network(input_size=2, hidden_size=2, output_size=1)\n",
        "\n",
        "# 손실함수 정의\n",
        "loss_function = nn.BCELoss()\n",
        "\n",
        "# 경사하강법 optimizer 정의: 모델의 매개변수를 전달해줘야한다.\n",
        "optimizer = optim.SGD(params=net.parameters(), lr=0.5)\n",
        "\n",
        "# 몇회 학습할지 결정: STEP/EPOCH\n",
        "STEP = 10001\n",
        "\n",
        "# 학습과정\n",
        "for step in range(STEP):\n",
        "    # 경사 초기화\n",
        "    net.zero_grad()\n",
        "    # 순방향 전파\n",
        "    y = net(x)\n",
        "    # 손실값 계산\n",
        "    loss = loss_function(y.squeeze(), t)\n",
        "    # . backward() 함수를 호출하여 역방향 전파\n",
        "    loss.backward()\n",
        "    # .step() 함수를 호출하여 경사하강법으로 매개변수 업데이트\n",
        "    optimizer.step()\n",
        "    if step % 1000 == 0:\n",
        "        print(\"{}:\\t {:.4f}\".format(step, loss.item()))\n",
        "        \n",
        "# 올바른 정답을 출력하는지 테스트한다 \n",
        "pred = net(x).ge(0.5)\n",
        "print(pred.view(-1))"
      ],
      "execution_count": 0,
      "outputs": []
    },
    {
      "cell_type": "markdown",
      "metadata": {
        "id": "gwIQTujyAnrB",
        "colab_type": "text"
      },
      "source": [
        "# Summary & Tips\n",
        "\n",
        "> 2.2.7 장에 해당하는 코드"
      ]
    },
    {
      "cell_type": "markdown",
      "metadata": {
        "id": "8q_MxKPmApbN",
        "colab_type": "text"
      },
      "source": [
        "## Batch & Mini Batch\n",
        "\n",
        "### 데이터셋 & 데이터로더"
      ]
    },
    {
      "cell_type": "code",
      "metadata": {
        "id": "5-DsxWgZArru",
        "colab_type": "code",
        "colab": {}
      },
      "source": [
        "# 코드 2-21\n",
        "\n",
        "import torch\n",
        "from torch.utils.data import Dataset, DataLoader\n",
        "\n",
        "class CustomDataset(Dataset):\n",
        "    def __init__(self, data_path):\n",
        "        # 데이터를 불러오는 작업을 진행한다.\n",
        "        import numpy as np\n",
        "        with open(data_path, \"r\", encoding=\"utf-8\") as file:\n",
        "            data = file.read().splitlines()\n",
        "            data = np.array([line.split(\"\\t\") for line in data], dtype=np.float)\n",
        "        \n",
        "        # data 는 1000개의 행, 4개의 열을 가지는 2차원 행렬이다.\n",
        "        # 그중 입력 데이터는 3개의 피쳐을 가진 1000개의 데이터고, \n",
        "        # 마지막 열(1000x1)은 타겟 데이터다. \n",
        "        self.x = data[:, :-1]\n",
        "        self.t = data[:, -1]\n",
        "        \n",
        "    def __getitem__(self, index):\n",
        "        # index 에 해당하는 데이터를 가져온다\n",
        "        return (self.x[index], self.t[index])\n",
        "        \n",
        "    def __len__(self):\n",
        "        # 데이터의 총 크기(배치)\n",
        "        return len(self.x)\n",
        "    \n",
        "    def custom_collate_fn(self, data):\n",
        "        # __getitem__ 으로 가져온 data=(x, t)데이터를 전처리해준다.\n",
        "        ## 여기서는 텐서로 전환한다.\n",
        "        x, t = list(zip(*data))\n",
        "        return (torch.FloatTensor(x), torch.LongTensor(t))\n",
        "\n",
        "example_dataset_path = \"example_dataset.tsv\"\n",
        "# 데이터셋 선언\n",
        "custom_dataset = CustomDataset(data_path=example_dataset_path)\n",
        "# 데이터로더 선언\n",
        "train_loader = DataLoader(dataset=custom_dataset,  # 선언한 데이터셋 입력\n",
        "                          batch_size=64,  # 배치크기 입력\n",
        "                          collate_fn=custom_dataset.custom_collate_fn,  # 데이터 전처리\n",
        "                          shuffle=True)  # 셔플도 가능하다\n",
        "\n",
        "# 테스트\n",
        "for x, y in train_loader:\n",
        "    print(\"size of mini-batch x: {}, t: {}\".format(x.size(), y.size()))\n",
        "    break"
      ],
      "execution_count": 0,
      "outputs": []
    },
    {
      "cell_type": "code",
      "metadata": {
        "id": "K7vCe2nlAuMW",
        "colab_type": "code",
        "colab": {}
      },
      "source": [
        "import numpy as np\n",
        "import torch\n",
        "import torch.nn as nn\n",
        "import matplotlib.pyplot as plt\n",
        "from collections import defaultdict\n",
        "\n",
        "\n",
        "\n",
        "# 02-XOR&Perceptron\n",
        "def draw_function(func, return_fig=False):\n",
        "    xx = torch.linspace(-5, 5, steps=1000)\n",
        "    fig = plt.figure()\n",
        "    plt.plot(xx.numpy(), func(xx).numpy())\n",
        "    plt.xlabel(\"x\", fontdict={\"fontsize\":16})\n",
        "    plt.ylabel(\"y\", fontdict={\"fontsize\":16}, rotation=0)\n",
        "    plt.title(f\"{func.__name__}\", fontdict={\"fontsize\":20})\n",
        "    plt.show()\n",
        "    if return_fig:\n",
        "        return fig\n",
        "    \n",
        "def check_gate(gate_func, **kwargs):\n",
        "    xx = [(0, 0), (1, 0), (0, 1), (1, 1)]\n",
        "    predict = torch.stack([gate_func(i, j, w=kwargs['w'], b=kwargs['b']) for i, j in xx])\n",
        "    if (gate_func.__name__ == \"AND\"):\n",
        "        target = torch.ByteTensor([0, 0, 0, 1])\n",
        "    elif (gate_func.__name__ == \"NAND\"):\n",
        "        target = torch.ByteTensor([1, 1, 1, 0])\n",
        "    elif (gate_func.__name__ == \"OR\"):\n",
        "        target = torch.ByteTensor([0, 1, 1, 1])\n",
        "    elif (gate_func.__name__ == \"XOR\"):\n",
        "        target = torch.ByteTensor([0, 1, 1, 0])\n",
        "    else:\n",
        "        return \"gate_func error\"\n",
        "    for i, j in xx:\n",
        "        print(f\"x1={i}, x2={j}, y={gate_func(i, j, w=kwargs['w'], b=kwargs['b'])}\")\n",
        "    print(f\"{predict.eq(target).float().sum()/len(target.float())*100} % right!\")\n",
        "\n",
        "\n",
        "def plot_dots(ax, gate_func):\n",
        "    x = [(0, 0), (1, 0), (0, 1), (1, 1)]\n",
        "    if (gate_func.__name__ == \"AND\"):\n",
        "        marker_o = list(zip(*x[3:]))\n",
        "        marker_x = list(zip(*x[:3]))\n",
        "    elif (gate_func.__name__ == \"NAND\"):\n",
        "        marker_o = list(zip(*x[:3]))\n",
        "        marker_x = list(zip(*x[3:]))\n",
        "    elif (gate_func.__name__ == \"OR\"):\n",
        "        marker_o = list(zip(*x[1:]))\n",
        "        marker_x = list(zip(*x[:1]))\n",
        "    elif (gate_func.__name__ == \"XOR\"):\n",
        "        marker_o = list(zip(*x[1:3]))\n",
        "        marker_x = list(zip(*x[::3]))\n",
        "    else:\n",
        "        return \"gate_func error\"\n",
        "    \n",
        "    ax.scatter(marker_o[0], marker_o[1], c='r', marker='o', label='1')\n",
        "    ax.scatter(marker_x[0], marker_x[1], c='b', marker='x', label='0')\n",
        "    ax.legend()\n",
        "    ax.set_xlim([-2, 2])\n",
        "    ax.set_ylim([-2, 2])\n",
        "    ax.set_title(gate_func.__name__)\n",
        "    ax.grid()\n",
        " \n",
        "def plot_line(**kwargs):\n",
        "    \"\"\"x2 = (-w1*x1 - b) / w2\"\"\"\n",
        "    x1 = [-2, 2]\n",
        "    w = kwargs['w']\n",
        "    b = kwargs['b']\n",
        "    get_x2 = lambda x: (-w[0]*x - b) / w[1]\n",
        "    # plot\n",
        "    ax=kwargs['ax']\n",
        "    ax.plot(x1, [get_x2(x1[0]), get_x2(x1[1])], c='g')\n",
        "\n",
        "def draw_solution(x, w, b, ax, func):\n",
        "    s = func(x, w=w, b=b).item()\n",
        "    marker_shape = 'o' if s == 1 else 'x'\n",
        "    marker_color = 'r' if s == 1 else 'b'\n",
        "    ax.scatter(x.numpy()[0], x.numpy()[1], c=marker_color, marker=marker_shape, label='{}: {}'.format(func.__name__, s))\n",
        "    plot_line(ax=ax, w=w, b=b)\n",
        "    ax.legend()\n",
        "    ax.set_xlim([-2, 2])\n",
        "    ax.set_ylim([-2, 2])\n",
        "    ax.grid()\n",
        "    ax.set_title('[{}] input: {} > result: {}'.format(func.__name__, x.long().numpy(), s))\n",
        "\n",
        "def draw_solution_by_step(x, **kwargs):\n",
        "    NAND = kwargs['f_nand']\n",
        "    OR = kwargs['f_or']\n",
        "    AND = kwargs['f_and']\n",
        "    fig, axes = plt.subplots(1, 3, figsize=(12, 4), dpi=100)\n",
        "    s = torch.FloatTensor([NAND(x, w=kwargs['w_nand'], b=kwargs['b_nand']), \n",
        "                           OR(x, w=kwargs['w_or'], b=kwargs['b_or'])])\n",
        "    draw_solution(x, w=kwargs['w_nand'], b=kwargs['b_nand'], ax=axes[0], func=NAND)\n",
        "    draw_solution(x, w=kwargs['w_or'], b=kwargs['b_or'], ax=axes[1], func=OR)\n",
        "    draw_solution(s, w=kwargs['w_and'], b=kwargs['b_and'], ax=axes[2], func=AND)\n",
        "              \n",
        "# 06-summary\n",
        "from matplotlib import animation\n",
        "\n",
        "def draw_gradient_ani(fowrard_function, his, n_step, interval, title):\n",
        "    x = np.arange(-10, 10, 0.01)\n",
        "    y = np.arange(-5, 5, 0.01)\n",
        "    X, Y = np.meshgrid(x, y)\n",
        "    Z = fowrard_function(X, Y)\n",
        "    levels = [0.1, 1, 2, 3, 4, 6, 8, 10, 14, 18, 24, 30, 50]\n",
        "    fig = plt.figure(figsize=(6, 6), dpi=100)\n",
        "    ax = fig.add_subplot(1, 1, 1)\n",
        "    scat = ax.scatter([], [], s=20, c='g', edgecolors='k')\n",
        "    data = np.c_[his['x'], his['y']]\n",
        "\n",
        "    def ani_init():\n",
        "        scat.set_offsets([])\n",
        "        return scat,\n",
        "\n",
        "    def ani_update(i, data, scat):\n",
        "        scat.set_offsets(data[i])\n",
        "        return scat,\n",
        "\n",
        "    plt.contour(X, Y, Z, cmap='RdBu_r', levels=levels)\n",
        "    plt.title(title, fontsize=20)\n",
        "    plt.xlabel('x')\n",
        "    plt.ylabel('y')\n",
        "    anim = animation.FuncAnimation(fig, ani_update, init_func=ani_init, frames=n_step, \n",
        "                                   interval=interval, blit=True, fargs = (data, scat))\n",
        "    plt.close()\n",
        "    return anim\n",
        "\n",
        "def draw_gradient_plot(fowrard_function, his, title=\"\",  rt_fig=False):\n",
        "    x = np.arange(-10, 10, 0.01)\n",
        "    y = np.arange(-5, 5, 0.01)\n",
        "    X, Y = np.meshgrid(x, y)\n",
        "    Z = fowrard_function(X, Y)\n",
        "    levels = [0.1, 1, 2, 3, 4, 6, 8, 10, 14, 18, 24, 30, 50]\n",
        "    fig = plt.figure(figsize=(6, 6), dpi=100)\n",
        "    \n",
        "    plt.contour(X, Y, Z, cmap='RdBu_r', levels=levels)\n",
        "    if his is not None:\n",
        "        plt.plot(his['x'], his['y'], 'go-', markersize=5, linewidth=0.5)\n",
        "    plt.title(title, fontsize=20)\n",
        "    plt.xlabel('x')\n",
        "    plt.ylabel('y')\n",
        "    plt.show()\n",
        "    if rt_fig:\n",
        "        return fig\n",
        "\n",
        "def params_init(a=-7.0, b=2.0):\n",
        "    x = nn.Parameter(torch.FloatTensor([a]))\n",
        "    y = nn.Parameter(torch.FloatTensor([b]))\n",
        "    params = nn.ParameterDict(parameters={\"x\": x, \"y\": y})\n",
        "    return params\n",
        "\n",
        "def optim_his_init(a, b):\n",
        "    params = params_init(a, b)\n",
        "    optim_his = defaultdict(list)\n",
        "    optim_his['x'].append(params.x.item())\n",
        "    optim_his['y'].append(params.y.item())\n",
        "    return optim_his, params\n",
        "\n",
        "def simulation(fowrard_function, params, optimizer, optim_his, n_step):\n",
        "    for step in range(n_step):\n",
        "        optimizer.zero_grad()\n",
        "        loss = fowrard_function(params.x, params.y)\n",
        "        loss.backward()\n",
        "        optimizer.step()\n",
        "        optim_his['x'].append(params.x.item())\n",
        "        optim_his['y'].append(params.y.item())\n",
        "\n",
        "    return optim_his"
      ],
      "execution_count": 0,
      "outputs": []
    },
    {
      "cell_type": "markdown",
      "metadata": {
        "id": "lUQFdHmVA0eG",
        "colab_type": "text"
      },
      "source": [
        "# 다양한 경사하강법 알고리즘"
      ]
    },
    {
      "cell_type": "code",
      "metadata": {
        "id": "ZBWMUpXSA5vX",
        "colab_type": "code",
        "colab": {}
      },
      "source": [
        "# 필요한 패키지를 로드한다.\n",
        "import numpy as np\n",
        "import torch.nn as nn\n",
        "import torch.optim as optim\n",
        "from matplotlib import rc\n",
        "import matplotlib.pylab as plt\n",
        "rc('animation', html='html5')"
      ],
      "execution_count": 0,
      "outputs": []
    },
    {
      "cell_type": "code",
      "metadata": {
        "id": "I7DD0ijEA75h",
        "colab_type": "code",
        "colab": {}
      },
      "source": [
        "def loss_function(x, y):\n",
        "    return (1/20)*(x**2) + (y**2)"
      ],
      "execution_count": 0,
      "outputs": []
    },
    {
      "cell_type": "code",
      "metadata": {
        "id": "hB09sRAgA_NJ",
        "colab_type": "code",
        "colab": {}
      },
      "source": [
        "# 그림 2-58(좌)\n",
        "\n",
        "# 레퍼런스: https://matplotlib.org/gallery/mplot3d/surface3d.html\n",
        "from mpl_toolkits.mplot3d import Axes3D\n",
        "import matplotlib.pyplot as plt\n",
        "from matplotlib import cm\n",
        "from matplotlib.ticker import LinearLocator, FormatStrFormatter\n",
        "import numpy as np\n",
        "\n",
        "fig = plt.figure(dpi=100)\n",
        "ax = fig.gca(projection='3d')\n",
        "\n",
        "# Make data.\n",
        "x = np.arange(-10, 10, 0.01)\n",
        "y = np.arange(-5, 5, 0.01)\n",
        "X, Y = np.meshgrid(x, y)\n",
        "Z = loss_function(X, Y)\n",
        "\n",
        "# Plot the surface.\n",
        "surf = ax.plot_surface(X, Y, Z, cmap=cm.coolwarm,\n",
        "                       linewidth=0, antialiased=False)\n",
        "\n",
        "# Customize the axises.\n",
        "ax.zaxis.set_major_locator(LinearLocator(10))\n",
        "ax.zaxis.set_major_formatter(FormatStrFormatter('%.00f'))\n",
        "ax.xaxis.set_major_formatter(FormatStrFormatter('%.00f'))\n",
        "ax.set_xlabel(\"x\")\n",
        "ax.set_ylabel(\"y\")\n",
        "ax.set_zlabel(\"loss\")\n",
        "\n",
        "# Add a color bar which maps values to colors.\n",
        "fig.colorbar(surf, shrink=0.5, aspect=5)\n",
        "\n",
        "plt.title(\"loss function graph(3D)\", fontsize=20, y=1.05)\n",
        "plt.tight_layout()\n",
        "plt.show()"
      ],
      "execution_count": 0,
      "outputs": []
    },
    {
      "cell_type": "code",
      "metadata": {
        "id": "PsUa8W3kBCbN",
        "colab_type": "code",
        "colab": {}
      },
      "source": [
        "# 그림 2-58(우)\n",
        "\n",
        "draw_gradient_plot(loss_function, his=None, title=\"loss function graph\")"
      ],
      "execution_count": 0,
      "outputs": []
    },
    {
      "cell_type": "markdown",
      "metadata": {
        "id": "TQHwwUyTBFrL",
        "colab_type": "text"
      },
      "source": [
        "### SGD"
      ]
    },
    {
      "cell_type": "code",
      "metadata": {
        "id": "UzyXWOWLBJkI",
        "colab_type": "code",
        "colab": {}
      },
      "source": [
        "# 그림 2-59\n",
        "\n",
        "title=\"SGD(lr=0.9)\"\n",
        "n_step, interval = 30, 150\n",
        "# 초기 매개변수: params=(x=-7.0, y=2.0) 와 기록을 위한 optim_his 변수를 선언한다.\n",
        "optim_his, params = optim_his_init(-7.0, 2.0)\n",
        "# SGD optimizer를 정의한다: 매개변수와 학습률을 설정한다.\n",
        "optimizer = optim.SGD([v for v in params.values()], lr=0.9)\n",
        "# 30 스텝동안 매개변수의 움직임을 시뮬레이션을 한다.\n",
        "optim_his = simulation(loss_function, params, optimizer, optim_his, n_step)\n",
        "draw_gradient_ani(loss_function, optim_his, n_step, interval, title)"
      ],
      "execution_count": 0,
      "outputs": []
    },
    {
      "cell_type": "code",
      "metadata": {
        "id": "9iPHCSlIBN44",
        "colab_type": "code",
        "colab": {}
      },
      "source": [
        "# 그림 2-60\n",
        "\n",
        "title=\"SGD(lr=0.1)\"\n",
        "n_step, interval = 30, 150\n",
        "optim_his, params = optim_his_init(-7.0, 2.0)\n",
        "optimizer = optim.SGD([v for v in params.values()], lr=0.1)\n",
        "optim_his = simulation(loss_function, params, optimizer, optim_his, n_step)\n",
        "draw_gradient_ani(loss_function, optim_his, n_step, interval, title)"
      ],
      "execution_count": 0,
      "outputs": []
    },
    {
      "cell_type": "markdown",
      "metadata": {
        "id": "wERh0J0nBQre",
        "colab_type": "text"
      },
      "source": [
        "### Momentum"
      ]
    },
    {
      "cell_type": "code",
      "metadata": {
        "id": "jYM15sxNBTMT",
        "colab_type": "code",
        "colab": {}
      },
      "source": [
        "# 그림 2-61\n",
        "\n",
        "title = \"Momentum(lr=0.1, momentum=0.9)\"\n",
        "n_step, interval = 30, 150\n",
        "optim_his, params = optim_his_init(-7.0, 2.0)\n",
        "optimizer = optim.SGD([v for v in params.values()], lr=0.1, momentum=0.9)\n",
        "optim_his = simulation(loss_function, params, optimizer, optim_his, n_step)\n",
        "draw_gradient_ani(loss_function, optim_his, n_step, interval, title)"
      ],
      "execution_count": 0,
      "outputs": []
    },
    {
      "cell_type": "markdown",
      "metadata": {
        "id": "_ddLNzkQBXbx",
        "colab_type": "text"
      },
      "source": [
        "### Adagrad"
      ]
    },
    {
      "cell_type": "code",
      "metadata": {
        "id": "kKvJPI8nBZ0s",
        "colab_type": "code",
        "colab": {}
      },
      "source": [
        "# 그림 2-62\n",
        "\n",
        "title = \"Adagrad(lr=1.5)\"\n",
        "n_step, interval = 30, 150\n",
        "optim_his, params = optim_his_init(-7.0, 2.0)\n",
        "optimizer = optim.Adagrad([v for v in params.values()], lr=1.5)\n",
        "optim_his = simulation(loss_function, params, optimizer, optim_his, n_step)\n",
        "draw_gradient_ani(loss_function, optim_his, n_step, interval, title)"
      ],
      "execution_count": 0,
      "outputs": []
    },
    {
      "cell_type": "markdown",
      "metadata": {
        "id": "ImUaUtmZBcv0",
        "colab_type": "text"
      },
      "source": [
        "### RMSProp"
      ]
    },
    {
      "cell_type": "code",
      "metadata": {
        "id": "obeXnE3ABehU",
        "colab_type": "code",
        "colab": {}
      },
      "source": [
        "# 그림 2-63\n",
        "\n",
        "title = \"RMSProp(lr=0.3)\"\n",
        "n_step, interval = 30, 150\n",
        "optim_his, params = optim_his_init(-7.0, 2.0)\n",
        "optimizer = optim.RMSprop([v for v in params.values()], lr=0.3)\n",
        "optim_his = simulation(loss_function, params, optimizer, optim_his, n_step)\n",
        "draw_gradient_ani(loss_function, optim_his, n_step, interval, title)"
      ],
      "execution_count": 0,
      "outputs": []
    },
    {
      "cell_type": "markdown",
      "metadata": {
        "id": "Bo0JN0H8Biam",
        "colab_type": "text"
      },
      "source": [
        "### Adam"
      ]
    },
    {
      "cell_type": "code",
      "metadata": {
        "id": "DFUtQXUfBkec",
        "colab_type": "code",
        "colab": {}
      },
      "source": [
        "# 그림 2-64\n",
        "\n",
        "title = \"Adam(lr=0.3)\"\n",
        "n_step, interval = 30, 150\n",
        "optim_his, params = optim_his_init(-7.0, 2.0)\n",
        "optimizer = optim.Adam([v for v in params.values()], lr=0.3)\n",
        "optim_his = simulation(loss_function, params, optimizer, optim_his, n_step)\n",
        "draw_gradient_ani(loss_function, optim_his, n_step, interval, title)"
      ],
      "execution_count": 0,
      "outputs": []
    }
  ]
}